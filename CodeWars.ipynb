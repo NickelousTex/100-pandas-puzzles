{
 "cells": [
  {
   "cell_type": "markdown",
   "metadata": {},
   "source": [
    "# Pratice w/ friends for whiteboard interviews"
   ]
  },
  {
   "cell_type": "code",
   "execution_count": 6,
   "metadata": {},
   "outputs": [],
   "source": [
    "from IPython.display import HTML"
   ]
  },
  {
   "cell_type": "code",
   "execution_count": 7,
   "metadata": {},
   "outputs": [
    {
     "data": {
      "text/html": [
       "<script>\n",
       "code_show=true; \n",
       "function code_toggle() {\n",
       " if (code_show){\n",
       " $('div.input').hide();\n",
       " } else {\n",
       " $('div.input').show();\n",
       " }\n",
       " code_show = !code_show\n",
       "} \n",
       "$( document ).ready(code_toggle);\n",
       "</script>\n",
       "The answers to these are hidden\n",
       "To toggle on/off to see most popular code, click <a href=\"javascript:code_toggle()\">here</a>."
      ],
      "text/plain": [
       "<IPython.core.display.HTML object>"
      ]
     },
     "execution_count": 7,
     "metadata": {},
     "output_type": "execute_result"
    }
   ],
   "source": [
    "HTML('''<script>\n",
    "code_show=true; \n",
    "function code_toggle() {\n",
    " if (code_show){\n",
    " $('div.input').hide();\n",
    " } else {\n",
    " $('div.input').show();\n",
    " }\n",
    " code_show = !code_show\n",
    "} \n",
    "$( document ).ready(code_toggle);\n",
    "</script>\n",
    "The answers to these are hidden\n",
    "To toggle on/off to see most popular code, click <a href=\"javascript:code_toggle()\">here</a>.''')"
   ]
  },
  {
   "cell_type": "markdown",
   "metadata": {},
   "source": [
    "# 1"
   ]
  },
  {
   "cell_type": "markdown",
   "metadata": {},
   "source": [
    "You've arrived at a carnival and head straight for the duck shooting tent. Why wouldn't you?\n",
    "\n",
    "You will be given a set amount of ammo, and an aim rating of between 1 and 0. No your aim is not always perfect - hey maybe someone fiddled with the sights on the gun...\n",
    "\n",
    "Anyway your task is to calculate how many successful shots you will be able to make given the available ammo and your aim score, then return a string representing the pool of ducks, with those ducks shot marked with 'X' and those that survived left unchanged. You will always shoot left to right.\n",
    "\n",
    "Example of start and end duck string with two successful shots:\n",
    "\n",
    "Start ---> |~22~2~|\n",
    "\n",
    "Bang!! Bang!!\n",
    "\n",
    "End ---> |~XX~2~|\n",
    "\n",
    "All inputs will be correct type and never empty.\n"
   ]
  },
  {
   "cell_type": "code",
   "execution_count": 1,
   "metadata": {},
   "outputs": [],
   "source": [
    "import math\n",
    "\n",
    "def duck_shoot(ammo, aim, duck_pool):\n",
    "    #your code here\n",
    "    shots = math.floor(ammo*aim)\n",
    "    return duck_pool.replace('2','X',shots)"
   ]
  },
  {
   "cell_type": "markdown",
   "metadata": {},
   "source": [
    "# 2  (https://www.codewars.com/kata/faro-shuffle-count/python)"
   ]
  },
  {
   "cell_type": "markdown",
   "metadata": {},
   "source": [
    "A faro shuffle of a deck of playing cards is a shuffle in which the deck is split exactly in half and then the cards in the two halves are perfectly interwoven, such that the original bottom card is still on the bottom and the original top card is still on top.\n",
    "\n",
    "For example, faro shuffling the list\n",
    "\n",
    "['ace','two', 'three', 'four', 'five', 'six']\n",
    "\n",
    "gives\n",
    "\n",
    "['ace', 'four', 'two', 'five', 'three', 'six' ]\n",
    "\n",
    "If 8 perfect faro shuffles are performed on a deck of 52 playing cards, the deck is restored to its original order.\n",
    "\n",
    "Write a function that inputs an integer n and returns an integer representing the number of faro shuffles it takes to restore a deck of n cards to its original order.\n",
    "\n",
    "Assume n is an even number between 2 and 2000.\n"
   ]
  },
  {
   "cell_type": "code",
   "execution_count": 2,
   "metadata": {},
   "outputs": [],
   "source": [
    "def faro_cycles(n):\n",
    "    x, cnt = 2, 1\n",
    "    while x != 1 and n > 3:\n",
    "        cnt += 1\n",
    "        x = x*2 % (n-1)\n",
    "    return cnt"
   ]
  },
  {
   "cell_type": "markdown",
   "metadata": {},
   "source": [
    "# 3 (https://www.codewars.com/kata/bouncing-balls)"
   ]
  },
  {
   "cell_type": "markdown",
   "metadata": {},
   "source": [
    "A child is playing with a ball on the nth floor of a tall building. The height of this floor, h, is known.\n",
    "\n",
    "He drops the ball out of the window. The ball bounces (for example), to two-thirds of its height (a bounce of 0.66).\n",
    "\n",
    "His mother looks out of a window 1.5 meters from the ground.\n",
    "\n",
    "How many times will the mother see the ball pass in front of her window (including when it's falling and bouncing?\n",
    "Three conditions must be met for a valid experiment:\n",
    "\n",
    "    Float parameter \"h\" in meters must be greater than 0\n",
    "    Float parameter \"bounce\" must be greater than 0 and less than 1\n",
    "    Float parameter \"window\" must be less than h.\n",
    "\n",
    "If all three conditions above are fulfilled, return a positive integer, otherwise return -1.\n",
    "\n",
    "Note: The ball can only be seen if the height of the rebounding ball is stricty greater than the window parameter.\n",
    "\n",
    "Example:\n",
    "\n",
    "    h = 3, bounce = 0.66, window = 1.5, result is 3\n",
    "\n",
    "    h = 3, bounce = 1, window = 1.5, result is -1 (Condition 2) not fulfilled).\n",
    "\n"
   ]
  },
  {
   "cell_type": "code",
   "execution_count": 3,
   "metadata": {},
   "outputs": [],
   "source": [
    "def bouncingBall(h, bounce, window):\n",
    "    if not 0 < bounce < 1: return -1\n",
    "    count = 0\n",
    "    while h > window:\n",
    "        count += 1\n",
    "        h *= bounce\n",
    "        if h > window: count += 1\n",
    "    return count or -1"
   ]
  },
  {
   "cell_type": "code",
   "execution_count": null,
   "metadata": {},
   "outputs": [],
   "source": []
  }
 ],
 "metadata": {
  "kernelspec": {
   "display_name": "Python 3",
   "language": "python",
   "name": "python3"
  },
  "language_info": {
   "codemirror_mode": {
    "name": "ipython",
    "version": 3
   },
   "file_extension": ".py",
   "mimetype": "text/x-python",
   "name": "python",
   "nbconvert_exporter": "python",
   "pygments_lexer": "ipython3",
   "version": "3.6.6"
  }
 },
 "nbformat": 4,
 "nbformat_minor": 2
}
